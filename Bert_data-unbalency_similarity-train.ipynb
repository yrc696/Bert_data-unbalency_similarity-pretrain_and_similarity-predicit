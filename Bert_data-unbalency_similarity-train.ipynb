{
 "cells": [
  {
   "cell_type": "code",
   "execution_count": 2,
   "metadata": {},
   "outputs": [],
   "source": [
    "import torch\n",
    "from torch.utils import data as data_\n",
    "import torch.nn as nn\n",
    "from torch.autograd import Variable\n",
    "import matplotlib.pyplot as plt\n",
    "import torchvision\n",
    "import pandas as pd \n",
    "from sklearn.model_selection import train_test_split\n",
    "import numpy as np\n",
    "import torch.nn as nn\n",
    "import torch.nn.functional as F\n",
    "from tqdm import tqdm\n",
    "from torch import optim\n",
    "import ast\n",
    "\n",
    "\n",
    "df = pd.read_csv(r\"C:\\Users\\YuCheng_Ch\\Desktop\\rand_ans_que_merge_vectors.csv\")\n",
    "sentence = df['sentence'].values.tolist()\n",
    "merged_victor = df['vector'].values.tolist()\n",
    "merged_label = df['label'].values.tolist()"
   ]
  },
  {
   "cell_type": "code",
   "execution_count": 3,
   "metadata": {},
   "outputs": [],
   "source": [
    "\n",
    "\n",
    "\n",
    "total_ele = []\n",
    "max_num = 0\n",
    "# for num, victor in enumerate(merged_victor):\n",
    "#     temp_list = eval(victor.replace('[[','[').replace(']]',']'))\n",
    "#     for ele in temp_list:\n",
    "#         total_ele.append(ele)\n",
    "\n",
    "\n",
    "max_num = max(merged_victor)\n",
    "\n",
    "\n",
    "data_x = []\n",
    "data_y = [] \n",
    "for num, list_ in enumerate(merged_victor):\n",
    "\n",
    "    try:\n",
    "        data_x.append(ast.literal_eval(list_))\n",
    "    except:\n",
    "        print(list_)\n",
    "\n",
    "for num, label in enumerate(merged_label):\n",
    "    try:\n",
    "        data_y.append(int(label))\n",
    "    except:\n",
    "        print(label)\n",
    "\n"
   ]
  },
  {
   "cell_type": "code",
   "execution_count": 4,
   "metadata": {},
   "outputs": [],
   "source": [
    "train_x, test_x, train_y, test_y = train_test_split(data_x,data_y, test_size=0.1)\n",
    "\n",
    "\n",
    "train_x= torch.tensor(train_x, dtype=torch.float32)\n",
    "# train_x = (train_x/max_num).cuda()\n",
    "train_y= torch.tensor(train_y, dtype=torch.int64).cuda()\n",
    "\n",
    "test_x = torch.tensor(test_x, dtype=torch.float32)\n",
    "# test = (test_x/max_num).cuda()\n",
    "test_y = torch.tensor(test_y, dtype=torch.int64).cuda()\n",
    "\n",
    "#xy打包\n",
    "train = torch.utils.data.TensorDataset(train_x, train_y)\n",
    "test = torch.utils.data.TensorDataset(test_x, test_y)\n",
    "#打包後迭帶\n",
    "train_dataloader = torch.utils.data.DataLoader(train, batch_size=128, shuffle=True)\n",
    "test_dataloader = torch.utils.data.DataLoader(test, batch_size=128, shuffle=True)\n"
   ]
  },
  {
   "cell_type": "code",
   "execution_count": 5,
   "metadata": {},
   "outputs": [],
   "source": [
    "class NN(nn.Module):\n",
    "    def __init__(self):\n",
    "        super(NN, self).__init__()\n",
    "        \n",
    "\n",
    "\n",
    "        self.linear1 = nn.Linear(768,512)\n",
    "        self.linear2 = nn.Linear(512,256)\n",
    "        self.linear3 = nn.Linear(256, 128)        \n",
    "        self.linear4 = nn.Linear(128, 64)\n",
    "        self.linear5 = nn.Linear(64, 16)\n",
    "        self.linear6 = nn.Linear(16, 8)\n",
    "        self.output = nn.Linear(8, 2)          \n",
    "\n",
    "    \n",
    "    def forward (self, x ):\n",
    "        x = self.linear1(x)\n",
    "        x = F.relu (x)\n",
    "        x = self.linear2(x)\n",
    "        x = F.relu (x)\n",
    "        x = self.linear3(x)\n",
    "        x = F.relu (x)\n",
    "        x = self.linear4(x)\n",
    "        x = F.relu (x)\n",
    "        x = self.linear5(x)   \n",
    "        x = F.relu (x)\n",
    "        x = self.linear6(x)   \n",
    "        x = F.relu (x)\n",
    "        x = self.output(x)\n",
    "        x = F.softmax(x, dim = 1)\n",
    "       \n",
    "        return x\n",
    "LR = 5e-5\n",
    "##### 加權損失函數\n",
    "class_counts = np.bincount(train_y.cpu().numpy())\n",
    "class_weights = 1. / class_counts\n",
    "weights = torch.tensor(class_weights, dtype=torch.float32).cuda()\n",
    "loss_fun = nn.CrossEntropyLoss(weight=weights)\n",
    "##### 加權損失函數\n",
    "\n",
    "\n",
    "model = NN().cuda()\n",
    "optimizer = torch.optim.Adam(model.parameters(), lr=LR)\n",
    "\n",
    "\n",
    "\n",
    "\n",
    "\n",
    "\n"
   ]
  },
  {
   "cell_type": "code",
   "execution_count": 6,
   "metadata": {},
   "outputs": [
    {
     "name": "stderr",
     "output_type": "stream",
     "text": [
      " 25%|██▌       | 25/100 [00:11<00:31,  2.40it/s]"
     ]
    },
    {
     "name": "stdout",
     "output_type": "stream",
     "text": [
      "Epoch [25/100], Loss: 0.4727, Accuracy: 83.23%\n",
      "Epoch [25/100] - Accuracy on test data: 83.49%, Loss: 0.4775\n",
      "Model saved to C:\\Users\\YuCheng_Ch\\Desktop\\datasets_accton\\onetime_train\\model_epoch_25_acc_83.49_loss_0.4775.pth\n"
     ]
    },
    {
     "name": "stderr",
     "output_type": "stream",
     "text": [
      " 50%|█████     | 50/100 [00:24<00:21,  2.33it/s]"
     ]
    },
    {
     "name": "stdout",
     "output_type": "stream",
     "text": [
      "Epoch [50/100], Loss: 0.4488, Accuracy: 85.48%\n",
      "Epoch [50/100] - Accuracy on test data: 84.49%, Loss: 0.4557\n",
      "Model saved to C:\\Users\\YuCheng_Ch\\Desktop\\datasets_accton\\onetime_train\\model_epoch_50_acc_84.49_loss_0.4557.pth\n"
     ]
    },
    {
     "name": "stderr",
     "output_type": "stream",
     "text": [
      " 75%|███████▌  | 75/100 [00:35<00:10,  2.32it/s]"
     ]
    },
    {
     "name": "stdout",
     "output_type": "stream",
     "text": [
      "Epoch [75/100], Loss: 0.4297, Accuracy: 87.67%\n",
      "Epoch [75/100] - Accuracy on test data: 86.37%, Loss: 0.4447\n",
      "Model saved to C:\\Users\\YuCheng_Ch\\Desktop\\datasets_accton\\onetime_train\\model_epoch_75_acc_86.37_loss_0.4447.pth\n"
     ]
    },
    {
     "name": "stderr",
     "output_type": "stream",
     "text": [
      "100%|██████████| 100/100 [00:47<00:00,  2.11it/s]"
     ]
    },
    {
     "name": "stdout",
     "output_type": "stream",
     "text": [
      "Epoch [100/100], Loss: 0.4253, Accuracy: 88.06%\n",
      "Epoch [100/100] - Accuracy on test data: 87.64%, Loss: 0.4468\n",
      "Model saved to C:\\Users\\YuCheng_Ch\\Desktop\\datasets_accton\\onetime_train\\model_epoch_100_acc_87.64_loss_0.4468.pth\n"
     ]
    },
    {
     "name": "stderr",
     "output_type": "stream",
     "text": [
      "\n"
     ]
    }
   ],
   "source": [
    "import os \n",
    "epochs = 100\n",
    "save_interval = 25\n",
    "log_interval = 25\n",
    "save_directory = r'C:\\Users\\YuCheng_Ch\\Desktop\\datasets_accton\\onetime_train'\n",
    "\n",
    "# 確保儲存資料夾存在\n",
    "os.makedirs(save_directory, exist_ok=True)\n",
    "\n",
    "for epoch in tqdm(range(epochs)):\n",
    "    model.train()\n",
    "    running_loss = 0.0\n",
    "    correct_train = 0\n",
    "    total_train = 0\n",
    "\n",
    "    for tensor, target in train_dataloader:   \n",
    "        tensor = tensor.cuda()\n",
    "        target = target.cuda()\n",
    "        optimizer.zero_grad()\n",
    "        result = model(tensor)\n",
    "        loss = loss_fun(result, target)\n",
    "        loss.backward()\n",
    "        optimizer.step()\n",
    "\n",
    "        running_loss += loss.item()\n",
    "        _, predicted = torch.max(result.data, 1)\n",
    "        total_train += target.size(0)\n",
    "        correct_train += (predicted == target).sum().item()\n",
    "\n",
    "    if (epoch + 1) % log_interval == 0:\n",
    "        average_loss = running_loss / len(train_dataloader)\n",
    "        train_accuracy = 100 * correct_train / total_train\n",
    "        print(f'Epoch [{epoch + 1}/{epochs}], Loss: {average_loss:.4f}, Accuracy: {train_accuracy:.2f}%')\n",
    "\n",
    "    if (epoch + 1) % save_interval == 0:\n",
    "        model.eval()\n",
    "        correct = 0\n",
    "        total = 0\n",
    "        test_loss = 0.0\n",
    "\n",
    "        with torch.no_grad():\n",
    "            for tensor, target in test_dataloader:\n",
    "                tensor = tensor.cuda()\n",
    "                target = target.cuda()\n",
    "                output = model(tensor)\n",
    "                # for num in range(0,25):\n",
    "                #     print(output[num][1]) #eval probability.\n",
    "                loss = loss_fun(output, target)\n",
    "                test_loss += loss.item()\n",
    "                _, predicted = torch.max(output.data, 1)\n",
    "                total += target.size(0)\n",
    "                correct += (predicted == target).sum().item()\n",
    "\n",
    "        accuracy = 100 * correct / total\n",
    "        test_loss /= len(test_dataloader)\n",
    "        print(f'Epoch [{epoch + 1}/{epochs}] - Accuracy on test data: {accuracy:.2f}%, Loss: {test_loss:.4f}')\n",
    "        \n",
    "        # Save the model\n",
    "        model_path = os.path.join(save_directory, f'model_epoch_{epoch + 1}_acc_{accuracy:.2f}_loss_{test_loss:.4f}.pth')\n",
    "        torch.save(model.state_dict(), model_path)\n",
    "        print(f'Model saved to {model_path}')"
   ]
  },
  {
   "cell_type": "markdown",
   "metadata": {},
   "source": []
  }
 ],
 "metadata": {
  "kernelspec": {
   "display_name": "Python 3",
   "language": "python",
   "name": "python3"
  },
  "language_info": {
   "codemirror_mode": {
    "name": "ipython",
    "version": 3
   },
   "file_extension": ".py",
   "mimetype": "text/x-python",
   "name": "python",
   "nbconvert_exporter": "python",
   "pygments_lexer": "ipython3",
   "version": "3.11.7"
  }
 },
 "nbformat": 4,
 "nbformat_minor": 2
}
